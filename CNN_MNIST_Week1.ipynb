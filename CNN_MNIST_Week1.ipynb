{
  "nbformat": 4,
  "nbformat_minor": 0,
  "metadata": {
    "colab": {
      "name": "CNN_MNIST_Week1.ipynb",
      "provenance": [],
      "collapsed_sections": [],
      "authorship_tag": "ABX9TyOntKmcDtmAaXjO+8f/YdsS",
      "include_colab_link": true
    },
    "kernelspec": {
      "name": "python3",
      "display_name": "Python 3"
    },
    "accelerator": "TPU"
  },
  "cells": [
    {
      "cell_type": "markdown",
      "metadata": {
        "id": "view-in-github",
        "colab_type": "text"
      },
      "source": [
        "<a href=\"https://colab.research.google.com/github/emailvenky/ML/blob/master/CNN_MNIST_Week1.ipynb\" target=\"_parent\"><img src=\"https://colab.research.google.com/assets/colab-badge.svg\" alt=\"Open In Colab\"/></a>"
      ]
    },
    {
      "cell_type": "markdown",
      "metadata": {
        "id": "UCekPe7eA9aR",
        "colab_type": "text"
      },
      "source": [
        "# Week 1 Live Project\n",
        "\n",
        "Workflow\n",
        "\n",
        "Load in the MNIST dataset and examine its structure.\n",
        "\n",
        "Use any library to load the MNIST dataset (included with both TensorFlow and PyTorch modules).\n",
        "Take a closer look at the data, inspecting its size, shape, and quantity.\n",
        "Using eitherOpenCV or Matplotlib (or others), view some random samples of the handwritten digits and observe the complexity of the images. Do you have any issues identifying these written numbers?\n",
        "Using NumPy or other libraries, prepare your dataset for training.\n",
        "\n",
        "Ensure the format or shape of the data is appropriate for input into your model (one-hot-encoding is needed for the labels).\n",
        "Ensure data types are correct and that data is normalized.\n",
        "Create a CNN with these specifications:\n",
        "\n",
        "Input dimensions of 28 x 28 x 1.\n",
        "Two convolution layers (kernel size 3x3): the first with 64 filters, the second with 32. Use ReLU as the activation layer.\n",
        "Max pooling of size 2 x 2.\n",
        "Dropout rate of 0.25.\n",
        "Add a sense layer comprising 128 outputs.\n",
        "Add another dropout layer using a rate setting of 0.5.\n",
        "Add the final Dense or Fully Connected Layer that indicates the class probabilities.\n",
        "Train this CNN on the MNIST dataset you prepared in Step 2.\n",
        "\n",
        "Train for at least 5 epochs using a batch size of 32.\n",
        "Plot graphs showing how your training and validation loss and accuracy changed with respect to the epochs completed.\n",
        "\n",
        "Save your model. You will be using it in the second milestone.\n",
        "\n",
        "Test your model on some random samples from the test dataset.\n",
        "\n",
        "Importance to project"
      ]
    },
    {
      "cell_type": "code",
      "metadata": {
        "id": "jfAHl3H4A5lD",
        "colab_type": "code",
        "colab": {}
      },
      "source": [
        "#Use any library to load the MNIST dataset (included with both TensorFlow and PyTorch modules). \n",
        "#Take a closer look at the data, inspecting its size, shape, and quantity. \n",
        "\n",
        "import tensorflow as tf\n",
        "(x_train, y_train), (x_test, y_test) = tf.keras.datasets.mnist.load_data()"
      ],
      "execution_count": 1,
      "outputs": []
    },
    {
      "cell_type": "code",
      "metadata": {
        "id": "7FlAgNiUMuCN",
        "colab_type": "code",
        "colab": {
          "base_uri": "https://localhost:8080/",
          "height": 299
        },
        "outputId": "4deea5b2-bc4d-435f-d1f5-c5ad1885bbaa"
      },
      "source": [
        "import matplotlib.pyplot as plt\n",
        "\n",
        "image_index = 1 # You may select anything up to 60,000\n",
        "print(y_train[image_index]) # The label is 8\n",
        "plt.imshow(x_train[image_index], cmap='Greys')"
      ],
      "execution_count": 2,
      "outputs": [
        {
          "output_type": "stream",
          "text": [
            "0\n"
          ],
          "name": "stdout"
        },
        {
          "output_type": "execute_result",
          "data": {
            "text/plain": [
              "<matplotlib.image.AxesImage at 0x7f990570bf98>"
            ]
          },
          "metadata": {
            "tags": []
          },
          "execution_count": 2
        },
        {
          "output_type": "display_data",
          "data": {
            "image/png": "[encoded data removed]",
            "text/plain": [
              "<Figure size 432x288 with 1 Axes>"
            ]
          },
          "metadata": {
            "tags": [],
            "needs_background": "light"
          }
        }
      ]
    },
    {
      "cell_type": "code",
      "metadata": {
        "id": "Sp2xGtnbMxcr",
        "colab_type": "code",
        "colab": {}
      },
      "source": [
        ""
      ],
      "execution_count": 2,
      "outputs": []
    },
    {
      "cell_type": "code",
      "metadata": {
        "id": "2H0AYqyMM4hQ",
        "colab_type": "code",
        "colab": {
          "base_uri": "https://localhost:8080/",
          "height": 69
        },
        "outputId": "328d3718-e6f0-499e-a0a9-fa4cbc875fe6"
      },
      "source": [
        "# Reshaping the array to 4-dims so that it can work with the Keras API\n",
        "x_train = x_train.reshape(x_train.shape[0], 28, 28, 1)\n",
        "x_test = x_test.reshape(x_test.shape[0], 28, 28, 1)\n",
        "input_shape = (28, 28, 1)\n",
        "# Making sure that the values are float so that we can get decimal points after division\n",
        "x_train = x_train.astype('float32')\n",
        "x_test = x_test.astype('float32')\n",
        "# Normalizing the RGB codes by dividing it to the max RGB value.\n",
        "x_train /= 255\n",
        "x_test /= 255\n",
        "print('x_train shape:', x_train.shape)\n",
        "print('Number of images in x_train', x_train.shape[0])\n",
        "print('Number of images in x_test', x_test.shape[0])"
      ],
      "execution_count": 3,
      "outputs": [
        {
          "output_type": "stream",
          "text": [
            "x_train shape: (60000, 28, 28, 1)\n",
            "Number of images in x_train 60000\n",
            "Number of images in x_test 10000\n"
          ],
          "name": "stdout"
        }
      ]
    },
    {
      "cell_type": "markdown",
      "metadata": {
        "id": "Ib_gmauiB3Yh",
        "colab_type": "text"
      },
      "source": [
        "Input dimensions of 28 x 28 x 1. Two convolution layers (kernel size 3x3): the first with 64 filters, the second with 32. Use ReLU as the activation layer. Max pooling of size 2 x 2. Dropout rate of 0.25. Add a sense layer comprising 128 outputs. Add another dropout layer using a rate setting of 0.5. Add the final Dense or Fully Connected Layer that indicates the class probabilities. Train this CNN on the MNIST dataset you prepared in Step 2.\n",
        "\n",
        "Train for at least 5 epochs using a batch size of 32.\n",
        "Plot graphs showing how your training and validation loss and accuracy changed with respect to the epochs completed.\n",
        "\n",
        "Save your model. You will be using it in the second milestone.\n",
        "\n",
        "Test your model on some random samples from the test dataset"
      ]
    },
    {
      "cell_type": "code",
      "metadata": {
        "id": "WvJtDZAMB-ls",
        "colab_type": "code",
        "colab": {}
      },
      "source": [
        "# Importing the required Keras modules containing model and layers\n",
        "from tensorflow.keras.models import Sequential\n",
        "from tensorflow.keras.layers import Dense, Conv2D, Dropout, Flatten, MaxPooling2D\n",
        "# Creating a Sequential Model and adding the layers\n",
        "model = Sequential()\n",
        "model.add(Conv2D(64 , kernel_size=(3,3),  input_shape=input_shape))\n",
        "model.add(Conv2D(32 , kernel_size=(3,3)))\n",
        "model.add(MaxPooling2D(pool_size=(2, 2)))\n",
        "model.add(Dropout(0.25))\n",
        "model.add(Flatten()) # Flattening the 2D arrays for fully connected layers\n",
        "model.add(Dense(128, activation=tf.nn.relu))\n",
        "model.add(Dropout(0.5))\n",
        "model.add(Dense(10,activation=tf.nn.softmax))"
      ],
      "execution_count": 4,
      "outputs": []
    },
    {
      "cell_type": "code",
      "metadata": {
        "id": "PvY6bI3dM7UF",
        "colab_type": "code",
        "colab": {}
      },
      "source": [
        "# # Importing the required Keras modules containing model and layers\n",
        "# from tensorflow.keras.models import Sequential\n",
        "# from tensorflow.keras.layers import Dense, Conv2D, Dropout, Flatten, MaxPooling2D\n",
        "# # Creating a Sequential Model and adding the layers\n",
        "# model = Sequential()\n",
        "# model.add(Conv2D(28, kernel_size=(3,3), input_shape=input_shape))\n",
        "# model.add(MaxPooling2D(pool_size=(2, 2)))\n",
        "# model.add(Flatten()) # Flattening the 2D arrays for fully connected layers\n",
        "# model.add(Dense(128, activation=tf.nn.relu))\n",
        "# model.add(Dropout(0.2))\n",
        "# model.add(Dense(10,activation=tf.nn.softmax))"
      ],
      "execution_count": 5,
      "outputs": []
    },
    {
      "cell_type": "code",
      "metadata": {
        "id": "8QrzFsPTM-FV",
        "colab_type": "code",
        "colab": {
          "base_uri": "https://localhost:8080/",
          "height": 210
        },
        "outputId": "830937fc-af61-4e00-bf24-8ece468d1777"
      },
      "source": [
        "model.compile(optimizer='adam', \n",
        "              loss='sparse_categorical_crossentropy', \n",
        "              metrics=['accuracy'])\n",
        "history = model.fit(x=x_train,y=y_train, epochs=5, batch_size=32, validation_data=(x_test, y_test))"
      ],
      "execution_count": 6,
      "outputs": [
        {
          "output_type": "stream",
          "text": [
            "Epoch 1/5\n",
            "1875/1875 [==============================] - 192s 102ms/step - loss: 0.2483 - accuracy: 0.9247 - val_loss: 0.0807 - val_accuracy: 0.9753\n",
            "Epoch 2/5\n",
            "1875/1875 [==============================] - 188s 100ms/step - loss: 0.1300 - accuracy: 0.9611 - val_loss: 0.0603 - val_accuracy: 0.9814\n",
            "Epoch 3/5\n",
            "1875/1875 [==============================] - 191s 102ms/step - loss: 0.1059 - accuracy: 0.9670 - val_loss: 0.0631 - val_accuracy: 0.9811\n",
            "Epoch 4/5\n",
            "1875/1875 [==============================] - 190s 102ms/step - loss: 0.0917 - accuracy: 0.9725 - val_loss: 0.0560 - val_accuracy: 0.9826\n",
            "Epoch 5/5\n",
            "1875/1875 [==============================] - 190s 101ms/step - loss: 0.0857 - accuracy: 0.9734 - val_loss: 0.0546 - val_accuracy: 0.9843\n"
          ],
          "name": "stdout"
        }
      ]
    },
    {
      "cell_type": "code",
      "metadata": {
        "id": "xXaIxcgGJK_l",
        "colab_type": "code",
        "colab": {
          "base_uri": "https://localhost:8080/",
          "height": 35
        },
        "outputId": "11db6190-933e-4b64-bf7a-6e01d675ae37"
      },
      "source": [
        "print(history.history.keys())  "
      ],
      "execution_count": 7,
      "outputs": [
        {
          "output_type": "stream",
          "text": [
            "dict_keys(['loss', 'accuracy', 'val_loss', 'val_accuracy'])\n"
          ],
          "name": "stdout"
        }
      ]
    },
    {
      "cell_type": "code",
      "metadata": {
        "id": "yFH60LYsOePg",
        "colab_type": "code",
        "colab": {
          "base_uri": "https://localhost:8080/",
          "height": 324
        },
        "outputId": "d53c4e47-f695-4e31-c874-3edf7398fba4"
      },
      "source": [
        "import pandas as pd\n",
        "import matplotlib.pyplot as plt\n",
        "\n",
        "\n",
        "pd.DataFrame(history.history).plot(figsize=(8,5))\n",
        "plt.grid(True)\n",
        "plt.gca().set_ylim(0,1)\n",
        "plt.show()"
      ],
      "execution_count": 8,
      "outputs": [
        {
          "output_type": "display_data",
          "data": {
            "image/png": "[encoded data removed]",
            "text/plain": [
              "<Figure size 576x360 with 1 Axes>"
            ]
          },
          "metadata": {
            "tags": [],
            "needs_background": "light"
          }
        }
      ]
    },
    {
      "cell_type": "code",
      "metadata": {
        "id": "-3DZj_X3JPSa",
        "colab_type": "code",
        "colab": {
          "base_uri": "https://localhost:8080/",
          "height": 35
        },
        "outputId": "d0da1e57-04fd-4743-d204-a1a34250241d"
      },
      "source": [
        "# serialize model to JSON\n",
        "model_json = model.to_json()\n",
        "with open(\"model.json\", \"w\") as json_file:\n",
        "    json_file.write(model_json)\n",
        "# serialize weights to HDF5\n",
        "model.save_weights(\"model.h5\")\n",
        "print(\"Saved model to disk\")\n",
        " \n",
        "# later...\n",
        " \n",
        "# # load json and create model\n",
        "# json_file = open('model.json', 'r')\n",
        "# loaded_model_json = json_file.read()\n",
        "# json_file.close()\n",
        "# loaded_model = model_from_json(loaded_model_json)\n",
        "# # load weights into new model\n",
        "# loaded_model.load_weights(\"model.h5\")\n",
        "# print(\"Loaded model from disk\")\n",
        " \n",
        "# # evaluate loaded model on test data\n",
        "# loaded_model.compile(loss='binary_crossentropy', optimizer='rmsprop', metrics=['accuracy'])\n",
        "# score = loaded_model.evaluate(X, Y, verbose=0)\n",
        "# print(\"%s: %.2f%%\" % (loaded_model.metrics_names[1], score[1]*100))"
      ],
      "execution_count": 9,
      "outputs": [
        {
          "output_type": "stream",
          "text": [
            "Saved model to disk\n"
          ],
          "name": "stdout"
        }
      ]
    },
    {
      "cell_type": "code",
      "metadata": {
        "id": "tCME3kxZT5sx",
        "colab_type": "code",
        "colab": {
          "base_uri": "https://localhost:8080/",
          "height": 69
        },
        "outputId": "1c1d367e-07f4-4040-b6f1-0962ca9ac197"
      },
      "source": [
        "x_new = x_test[:3]\n",
        "y_proba = model.predict(x_new)\n",
        "y_proba.round(2)"
      ],
      "execution_count": 10,
      "outputs": [
        {
          "output_type": "execute_result",
          "data": {
            "text/plain": [
              "array([[0., 0., 0., 0., 0., 0., 0., 1., 0., 0.],\n",
              "       [0., 0., 1., 0., 0., 0., 0., 0., 0., 0.],\n",
              "       [0., 1., 0., 0., 0., 0., 0., 0., 0., 0.]], dtype=float32)"
            ]
          },
          "metadata": {
            "tags": []
          },
          "execution_count": 10
        }
      ]
    },
    {
      "cell_type": "code",
      "metadata": {
        "id": "tML8SgDPUTgs",
        "colab_type": "code",
        "colab": {
          "base_uri": "https://localhost:8080/",
          "height": 124
        },
        "outputId": "0eb13d4c-1041-49d2-e5bc-7b613ffaeae6"
      },
      "source": [
        "import numpy as np\n",
        "\n",
        "y_pred = model.predict_classes(x_new)\n",
        "print(y_pred)\n",
        "class_names = [\"0\", \"1\", \"2\", \"3\", \"4\", \"5\", \"6\", \"7\", \"8\", \"9\"]\n",
        "np.array(class_names)[y_pred]"
      ],
      "execution_count": 11,
      "outputs": [
        {
          "output_type": "stream",
          "text": [
            "WARNING:tensorflow:From <ipython-input-11-65ecaab84349>:3: Sequential.predict_classes (from tensorflow.python.keras.engine.sequential) is deprecated and will be removed after 2021-01-01.\n",
            "Instructions for updating:\n",
            "Please use instead:* `np.argmax(model.predict(x), axis=-1)`,   if your model does multi-class classification   (e.g. if it uses a `softmax` last-layer activation).* `(model.predict(x) > 0.5).astype(\"int32\")`,   if your model does binary classification   (e.g. if it uses a `sigmoid` last-layer activation).\n",
            "[7 2 1]\n"
          ],
          "name": "stdout"
        },
        {
          "output_type": "execute_result",
          "data": {
            "text/plain": [
              "array(['7', '2', '1'], dtype='<U1')"
            ]
          },
          "metadata": {
            "tags": []
          },
          "execution_count": 11
        }
      ]
    },
    {
      "cell_type": "code",
      "metadata": {
        "id": "COcf2q33WJPG",
        "colab_type": "code",
        "colab": {}
      },
      "source": [
        ""
      ],
      "execution_count": 11,
      "outputs": []
    }
  ]
}